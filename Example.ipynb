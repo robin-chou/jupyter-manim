{
 "cells": [
  {
   "cell_type": "code",
   "execution_count": null,
   "metadata": {},
   "outputs": [],
   "source": [
    "import jupyter_manim"
   ]
  },
  {
   "cell_type": "code",
   "execution_count": null,
   "metadata": {},
   "outputs": [],
   "source": [
    "COLOR = 'red'"
   ]
  },
  {
   "cell_type": "code",
   "execution_count": null,
   "metadata": {},
   "outputs": [],
   "source": [
    "from manimlib.scene.scene import Scene\n",
    "from manimlib.mobject.geometry import Circle\n",
    "from manimlib.mobject.geometry import Square\n",
    "from manimlib.animation.transform import Transform\n",
    "from manimlib.animation.fading import FadeOut\n",
    "from manimlib.animation.creation import ShowCreation"
   ]
  },
  {
   "cell_type": "code",
   "execution_count": null,
   "metadata": {},
   "outputs": [],
   "source": [
    "import statistics"
   ]
  },
  {
   "cell_type": "code",
   "execution_count": null,
   "metadata": {},
   "outputs": [],
   "source": [
    "%%manim Shapes --low_quality\n",
    "\n",
    "# only to demonstrate that you can use modules imported earlier\n",
    "# (as well as variables defined beforehand, see COLOR)\n",
    "statistics.mean([1, 2, 3])\n",
    "\n",
    "class Shapes(Scene):\n",
    "\n",
    "    def construct(self):\n",
    "        circle = Circle(color=COLOR)\n",
    "        square = Square()\n",
    "        self.play(ShowCreation(circle))\n",
    "        self.play(Transform(circle, square))\n",
    "        self.play(FadeOut(circle))"
   ]
  }
 ],
 "metadata": {
  "kernelspec": {
   "display_name": "Python 3",
   "language": "python",
   "name": "python3"
  },
  "language_info": {
   "codemirror_mode": {
    "name": "ipython",
    "version": 3
   },
   "file_extension": ".py",
   "mimetype": "text/x-python",
   "name": "python",
   "nbconvert_exporter": "python",
   "pygments_lexer": "ipython3",
   "version": "3.7.5"
  }
 },
 "nbformat": 4,
 "nbformat_minor": 4
}
